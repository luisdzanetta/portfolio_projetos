{
  "nbformat": 4,
  "nbformat_minor": 0,
  "metadata": {
    "colab": {
      "provenance": [],
      "collapsed_sections": [],
      "authorship_tag": "ABX9TyMlvTEMswRglc8ib7VILeax",
      "include_colab_link": true
    },
    "kernelspec": {
      "name": "python3",
      "display_name": "Python 3"
    },
    "language_info": {
      "name": "python"
    }
  },
  "cells": [
    {
      "cell_type": "markdown",
      "metadata": {
        "id": "view-in-github",
        "colab_type": "text"
      },
      "source": [
        "<a href=\"https://colab.research.google.com/github/luisdzanetta/portfolio_projetos/blob/main/Projeto_1_Teste_AB.ipynb\" target=\"_parent\"><img src=\"https://colab.research.google.com/assets/colab-badge.svg\" alt=\"Open In Colab\"/></a>"
      ]
    },
    {
      "cell_type": "markdown",
      "source": [
        "##**Bibliotecas**"
      ],
      "metadata": {
        "id": "kCxCyCjrP20S"
      }
    },
    {
      "cell_type": "code",
      "execution_count": 10,
      "metadata": {
        "id": "rGUvAKDbK9bb",
        "colab": {
          "base_uri": "https://localhost:8080/"
        },
        "outputId": "034102df-0f99-478c-b832-9e7767bcf360"
      },
      "outputs": [
        {
          "output_type": "stream",
          "name": "stdout",
          "text": [
            "Looking in indexes: https://pypi.org/simple, https://us-python.pkg.dev/colab-wheels/public/simple/\n",
            "Collecting pingouin\n",
            "  Downloading pingouin-0.5.2.tar.gz (185 kB)\n",
            "\u001b[K     |████████████████████████████████| 185 kB 6.7 MB/s \n",
            "\u001b[?25hRequirement already satisfied: numpy>=1.19 in /usr/local/lib/python3.7/dist-packages (from pingouin) (1.21.6)\n",
            "Requirement already satisfied: scipy>=1.7 in /usr/local/lib/python3.7/dist-packages (from pingouin) (1.7.3)\n",
            "Requirement already satisfied: pandas>=1.0 in /usr/local/lib/python3.7/dist-packages (from pingouin) (1.3.5)\n",
            "Requirement already satisfied: matplotlib>=3.0.2 in /usr/local/lib/python3.7/dist-packages (from pingouin) (3.2.2)\n",
            "Requirement already satisfied: seaborn>=0.11 in /usr/local/lib/python3.7/dist-packages (from pingouin) (0.11.2)\n",
            "Collecting statsmodels>=0.13\n",
            "  Downloading statsmodels-0.13.2-cp37-cp37m-manylinux_2_17_x86_64.manylinux2014_x86_64.whl (9.8 MB)\n",
            "\u001b[K     |████████████████████████████████| 9.8 MB 39.2 MB/s \n",
            "\u001b[?25hRequirement already satisfied: scikit-learn<1.1.0 in /usr/local/lib/python3.7/dist-packages (from pingouin) (1.0.2)\n",
            "Collecting pandas_flavor>=0.2.0\n",
            "  Downloading pandas_flavor-0.3.0-py3-none-any.whl (6.3 kB)\n",
            "Collecting outdated\n",
            "  Downloading outdated-0.2.1-py3-none-any.whl (7.5 kB)\n",
            "Requirement already satisfied: tabulate in /usr/local/lib/python3.7/dist-packages (from pingouin) (0.8.10)\n",
            "Requirement already satisfied: pyparsing!=2.0.4,!=2.1.2,!=2.1.6,>=2.0.1 in /usr/local/lib/python3.7/dist-packages (from matplotlib>=3.0.2->pingouin) (3.0.9)\n",
            "Requirement already satisfied: cycler>=0.10 in /usr/local/lib/python3.7/dist-packages (from matplotlib>=3.0.2->pingouin) (0.11.0)\n",
            "Requirement already satisfied: python-dateutil>=2.1 in /usr/local/lib/python3.7/dist-packages (from matplotlib>=3.0.2->pingouin) (2.8.2)\n",
            "Requirement already satisfied: kiwisolver>=1.0.1 in /usr/local/lib/python3.7/dist-packages (from matplotlib>=3.0.2->pingouin) (1.4.4)\n",
            "Requirement already satisfied: typing-extensions in /usr/local/lib/python3.7/dist-packages (from kiwisolver>=1.0.1->matplotlib>=3.0.2->pingouin) (4.1.1)\n",
            "Requirement already satisfied: pytz>=2017.3 in /usr/local/lib/python3.7/dist-packages (from pandas>=1.0->pingouin) (2022.2.1)\n",
            "Requirement already satisfied: xarray in /usr/local/lib/python3.7/dist-packages (from pandas_flavor>=0.2.0->pingouin) (0.20.2)\n",
            "Collecting pandas_flavor>=0.2.0\n",
            "  Downloading pandas_flavor-0.2.0-py2.py3-none-any.whl (6.6 kB)\n",
            "Requirement already satisfied: six>=1.5 in /usr/local/lib/python3.7/dist-packages (from python-dateutil>=2.1->matplotlib>=3.0.2->pingouin) (1.15.0)\n",
            "Requirement already satisfied: threadpoolctl>=2.0.0 in /usr/local/lib/python3.7/dist-packages (from scikit-learn<1.1.0->pingouin) (3.1.0)\n",
            "Requirement already satisfied: joblib>=0.11 in /usr/local/lib/python3.7/dist-packages (from scikit-learn<1.1.0->pingouin) (1.1.0)\n",
            "Requirement already satisfied: patsy>=0.5.2 in /usr/local/lib/python3.7/dist-packages (from statsmodels>=0.13->pingouin) (0.5.2)\n",
            "Requirement already satisfied: packaging>=21.3 in /usr/local/lib/python3.7/dist-packages (from statsmodels>=0.13->pingouin) (21.3)\n",
            "Collecting littleutils\n",
            "  Downloading littleutils-0.2.2.tar.gz (6.6 kB)\n",
            "Requirement already satisfied: requests in /usr/local/lib/python3.7/dist-packages (from outdated->pingouin) (2.23.0)\n",
            "Requirement already satisfied: idna<3,>=2.5 in /usr/local/lib/python3.7/dist-packages (from requests->outdated->pingouin) (2.10)\n",
            "Requirement already satisfied: certifi>=2017.4.17 in /usr/local/lib/python3.7/dist-packages (from requests->outdated->pingouin) (2022.6.15)\n",
            "Requirement already satisfied: urllib3!=1.25.0,!=1.25.1,<1.26,>=1.21.1 in /usr/local/lib/python3.7/dist-packages (from requests->outdated->pingouin) (1.24.3)\n",
            "Requirement already satisfied: chardet<4,>=3.0.2 in /usr/local/lib/python3.7/dist-packages (from requests->outdated->pingouin) (3.0.4)\n",
            "Requirement already satisfied: importlib-metadata in /usr/local/lib/python3.7/dist-packages (from xarray->pandas_flavor>=0.2.0->pingouin) (4.12.0)\n",
            "Requirement already satisfied: zipp>=0.5 in /usr/local/lib/python3.7/dist-packages (from importlib-metadata->xarray->pandas_flavor>=0.2.0->pingouin) (3.8.1)\n",
            "Building wheels for collected packages: pingouin, littleutils\n",
            "  Building wheel for pingouin (setup.py) ... \u001b[?25l\u001b[?25hdone\n",
            "  Created wheel for pingouin: filename=pingouin-0.5.2-py3-none-any.whl size=196206 sha256=16baf23f22f035109ea6c75f9335e98f153edde327eeb92ed7c99009d56029fe\n",
            "  Stored in directory: /root/.cache/pip/wheels/11/5a/63/a6d32fc26fa462c731f65480bfb98ff7bd39b8ebcb4bc6c2fe\n",
            "  Building wheel for littleutils (setup.py) ... \u001b[?25l\u001b[?25hdone\n",
            "  Created wheel for littleutils: filename=littleutils-0.2.2-py3-none-any.whl size=7048 sha256=bbd3b3cd8d5af16ba3f508a00022f1e380a09259b927318cbc2b58ae9ae7580a\n",
            "  Stored in directory: /root/.cache/pip/wheels/d6/64/cd/32819b511a488e4993f2fab909a95330289c3f4e0f6ef4676d\n",
            "Successfully built pingouin littleutils\n",
            "Installing collected packages: littleutils, statsmodels, pandas-flavor, outdated, pingouin\n",
            "  Attempting uninstall: statsmodels\n",
            "    Found existing installation: statsmodels 0.12.2\n",
            "    Uninstalling statsmodels-0.12.2:\n",
            "      Successfully uninstalled statsmodels-0.12.2\n",
            "Successfully installed littleutils-0.2.2 outdated-0.2.1 pandas-flavor-0.2.0 pingouin-0.5.2 statsmodels-0.13.2\n"
          ]
        }
      ],
      "source": [
        "#Bibliotecas\n",
        "import pandas as pd\n",
        "#! pip install pingouin\n",
        "from pingouin import power_ttest"
      ]
    },
    {
      "cell_type": "markdown",
      "source": [
        "##**Set Up do Exprimento**"
      ],
      "metadata": {
        "id": "pfxZ9gHGAeqO"
      }
    },
    {
      "cell_type": "markdown",
      "source": [
        "####**Cenário**\n",
        "Faremos um teste A/B para uma empresa hipótetica que está tentando aumentar as vendas de um **produto XY** na loja online (e-commerce).\n",
        "\n",
        "####**Objetivo**\n",
        "O Objetivo de executar um teste A/B, é avaliar se determinada alteração na página de venda levará a um mlehor desempenho em uma métrica específica.\n",
        "\n",
        "####**Métricas**\n",
        "A taxa de **conversão atual é de 13%** (Página A). Ou seja, a cada 100 pessoas que entram na página, 13 compram o **produto XY**. Para esse exemplo, queremos confirmar que as alterações feitas na página de vendas (Página B) resultarão em um aumento de, pelo menos, **2%** na conversão.\n",
        "\n",
        "####**Hipóteses**\n",
        "Considerando que a página A é a utilizada atualmente, ou seja, com conversão de 13%. E a página B, é que a página que será testada, com alterações:\n",
        "\n",
        "$H_0$: Média de conversão da página A = Média de conversão da página B\n",
        "\n",
        "$H_1$: Média de conversão da página A ≠ Média de conversão da página B\n",
        "\n",
        "---\n",
        "\n",
        "####**Amostra**\n",
        "A amostra necessária para observar o efeito solicitado foi calculada por meio da biblioteca [pingouin](https://pingouin-stats.org/index.html) e do software G * Power v.3.1.9.7 (G * Power, 2021; Bartlett, 2022), considerando os seguintes parâmetros (input Parameters):\n",
        "\n",
        "**Família do teste (Test family):** t tests\n",
        "\n",
        "**Teste Estatístico (Statistic test):** Diferença de média entre duas amostras independentes\n",
        "\n",
        "**Caudas (Tails):** Duas (Bicaudal)\n",
        "\n",
        "**Tamanho de efeito (Effect size d):** 0,02\n",
        "\n",
        "**Alpha (α):** 0,05\n",
        "\n",
        "**Poder (Power) (1-β):** 0,80\n",
        "\n"
      ],
      "metadata": {
        "id": "XHSXTnnBAjc1"
      }
    },
    {
      "cell_type": "markdown",
      "source": [
        "##**Base de Dados**"
      ],
      "metadata": {
        "id": "sl8DXb-HP_-U"
      }
    },
    {
      "cell_type": "code",
      "source": [
        "#Carregar BD\n",
        "from google.colab import files\n",
        "uploaded = files.upload()"
      ],
      "metadata": {
        "colab": {
          "base_uri": "https://localhost:8080/",
          "height": 73
        },
        "id": "SUcKJup0NMz2",
        "outputId": "2b79235d-b5ca-44d5-e24e-a5a0d6b44802"
      },
      "execution_count": 3,
      "outputs": [
        {
          "output_type": "display_data",
          "data": {
            "text/plain": [
              "<IPython.core.display.HTML object>"
            ],
            "text/html": [
              "\n",
              "     <input type=\"file\" id=\"files-24e9abf6-a867-4f70-afb5-d31cdd25b191\" name=\"files[]\" multiple disabled\n",
              "        style=\"border:none\" />\n",
              "     <output id=\"result-24e9abf6-a867-4f70-afb5-d31cdd25b191\">\n",
              "      Upload widget is only available when the cell has been executed in the\n",
              "      current browser session. Please rerun this cell to enable.\n",
              "      </output>\n",
              "      <script>// Copyright 2017 Google LLC\n",
              "//\n",
              "// Licensed under the Apache License, Version 2.0 (the \"License\");\n",
              "// you may not use this file except in compliance with the License.\n",
              "// You may obtain a copy of the License at\n",
              "//\n",
              "//      http://www.apache.org/licenses/LICENSE-2.0\n",
              "//\n",
              "// Unless required by applicable law or agreed to in writing, software\n",
              "// distributed under the License is distributed on an \"AS IS\" BASIS,\n",
              "// WITHOUT WARRANTIES OR CONDITIONS OF ANY KIND, either express or implied.\n",
              "// See the License for the specific language governing permissions and\n",
              "// limitations under the License.\n",
              "\n",
              "/**\n",
              " * @fileoverview Helpers for google.colab Python module.\n",
              " */\n",
              "(function(scope) {\n",
              "function span(text, styleAttributes = {}) {\n",
              "  const element = document.createElement('span');\n",
              "  element.textContent = text;\n",
              "  for (const key of Object.keys(styleAttributes)) {\n",
              "    element.style[key] = styleAttributes[key];\n",
              "  }\n",
              "  return element;\n",
              "}\n",
              "\n",
              "// Max number of bytes which will be uploaded at a time.\n",
              "const MAX_PAYLOAD_SIZE = 100 * 1024;\n",
              "\n",
              "function _uploadFiles(inputId, outputId) {\n",
              "  const steps = uploadFilesStep(inputId, outputId);\n",
              "  const outputElement = document.getElementById(outputId);\n",
              "  // Cache steps on the outputElement to make it available for the next call\n",
              "  // to uploadFilesContinue from Python.\n",
              "  outputElement.steps = steps;\n",
              "\n",
              "  return _uploadFilesContinue(outputId);\n",
              "}\n",
              "\n",
              "// This is roughly an async generator (not supported in the browser yet),\n",
              "// where there are multiple asynchronous steps and the Python side is going\n",
              "// to poll for completion of each step.\n",
              "// This uses a Promise to block the python side on completion of each step,\n",
              "// then passes the result of the previous step as the input to the next step.\n",
              "function _uploadFilesContinue(outputId) {\n",
              "  const outputElement = document.getElementById(outputId);\n",
              "  const steps = outputElement.steps;\n",
              "\n",
              "  const next = steps.next(outputElement.lastPromiseValue);\n",
              "  return Promise.resolve(next.value.promise).then((value) => {\n",
              "    // Cache the last promise value to make it available to the next\n",
              "    // step of the generator.\n",
              "    outputElement.lastPromiseValue = value;\n",
              "    return next.value.response;\n",
              "  });\n",
              "}\n",
              "\n",
              "/**\n",
              " * Generator function which is called between each async step of the upload\n",
              " * process.\n",
              " * @param {string} inputId Element ID of the input file picker element.\n",
              " * @param {string} outputId Element ID of the output display.\n",
              " * @return {!Iterable<!Object>} Iterable of next steps.\n",
              " */\n",
              "function* uploadFilesStep(inputId, outputId) {\n",
              "  const inputElement = document.getElementById(inputId);\n",
              "  inputElement.disabled = false;\n",
              "\n",
              "  const outputElement = document.getElementById(outputId);\n",
              "  outputElement.innerHTML = '';\n",
              "\n",
              "  const pickedPromise = new Promise((resolve) => {\n",
              "    inputElement.addEventListener('change', (e) => {\n",
              "      resolve(e.target.files);\n",
              "    });\n",
              "  });\n",
              "\n",
              "  const cancel = document.createElement('button');\n",
              "  inputElement.parentElement.appendChild(cancel);\n",
              "  cancel.textContent = 'Cancel upload';\n",
              "  const cancelPromise = new Promise((resolve) => {\n",
              "    cancel.onclick = () => {\n",
              "      resolve(null);\n",
              "    };\n",
              "  });\n",
              "\n",
              "  // Wait for the user to pick the files.\n",
              "  const files = yield {\n",
              "    promise: Promise.race([pickedPromise, cancelPromise]),\n",
              "    response: {\n",
              "      action: 'starting',\n",
              "    }\n",
              "  };\n",
              "\n",
              "  cancel.remove();\n",
              "\n",
              "  // Disable the input element since further picks are not allowed.\n",
              "  inputElement.disabled = true;\n",
              "\n",
              "  if (!files) {\n",
              "    return {\n",
              "      response: {\n",
              "        action: 'complete',\n",
              "      }\n",
              "    };\n",
              "  }\n",
              "\n",
              "  for (const file of files) {\n",
              "    const li = document.createElement('li');\n",
              "    li.append(span(file.name, {fontWeight: 'bold'}));\n",
              "    li.append(span(\n",
              "        `(${file.type || 'n/a'}) - ${file.size} bytes, ` +\n",
              "        `last modified: ${\n",
              "            file.lastModifiedDate ? file.lastModifiedDate.toLocaleDateString() :\n",
              "                                    'n/a'} - `));\n",
              "    const percent = span('0% done');\n",
              "    li.appendChild(percent);\n",
              "\n",
              "    outputElement.appendChild(li);\n",
              "\n",
              "    const fileDataPromise = new Promise((resolve) => {\n",
              "      const reader = new FileReader();\n",
              "      reader.onload = (e) => {\n",
              "        resolve(e.target.result);\n",
              "      };\n",
              "      reader.readAsArrayBuffer(file);\n",
              "    });\n",
              "    // Wait for the data to be ready.\n",
              "    let fileData = yield {\n",
              "      promise: fileDataPromise,\n",
              "      response: {\n",
              "        action: 'continue',\n",
              "      }\n",
              "    };\n",
              "\n",
              "    // Use a chunked sending to avoid message size limits. See b/62115660.\n",
              "    let position = 0;\n",
              "    do {\n",
              "      const length = Math.min(fileData.byteLength - position, MAX_PAYLOAD_SIZE);\n",
              "      const chunk = new Uint8Array(fileData, position, length);\n",
              "      position += length;\n",
              "\n",
              "      const base64 = btoa(String.fromCharCode.apply(null, chunk));\n",
              "      yield {\n",
              "        response: {\n",
              "          action: 'append',\n",
              "          file: file.name,\n",
              "          data: base64,\n",
              "        },\n",
              "      };\n",
              "\n",
              "      let percentDone = fileData.byteLength === 0 ?\n",
              "          100 :\n",
              "          Math.round((position / fileData.byteLength) * 100);\n",
              "      percent.textContent = `${percentDone}% done`;\n",
              "\n",
              "    } while (position < fileData.byteLength);\n",
              "  }\n",
              "\n",
              "  // All done.\n",
              "  yield {\n",
              "    response: {\n",
              "      action: 'complete',\n",
              "    }\n",
              "  };\n",
              "}\n",
              "\n",
              "scope.google = scope.google || {};\n",
              "scope.google.colab = scope.google.colab || {};\n",
              "scope.google.colab._files = {\n",
              "  _uploadFiles,\n",
              "  _uploadFilesContinue,\n",
              "};\n",
              "})(self);\n",
              "</script> "
            ]
          },
          "metadata": {}
        },
        {
          "output_type": "stream",
          "name": "stdout",
          "text": [
            "Saving Projeto#1_Teste_AB.csv to Projeto#1_Teste_AB.csv\n"
          ]
        }
      ]
    },
    {
      "cell_type": "code",
      "source": [
        "df_raw = pd.read_csv('Projeto#1_Teste_AB.csv')"
      ],
      "metadata": {
        "id": "sZKCnCASN1Na"
      },
      "execution_count": 4,
      "outputs": []
    },
    {
      "cell_type": "code",
      "source": [
        "df_raw.head()"
      ],
      "metadata": {
        "colab": {
          "base_uri": "https://localhost:8080/",
          "height": 206
        },
        "id": "Q6cfEZSLN7bG",
        "outputId": "0bd47eba-5c2e-4f24-da26-d9022ab1aa2c"
      },
      "execution_count": 5,
      "outputs": [
        {
          "output_type": "execute_result",
          "data": {
            "text/plain": [
              "   user_id                   timestamp      group landing_page  converted\n",
              "0   851104  2017-01-21 22:11:48.556739    control     old_page          0\n",
              "1   804228  2017-01-12 08:01:45.159739    control     old_page          0\n",
              "2   661590  2017-01-11 16:55:06.154213  treatment     new_page          0\n",
              "3   853541  2017-01-08 18:28:03.143765  treatment     new_page          0\n",
              "4   864975  2017-01-21 01:52:26.210827    control     old_page          1"
            ],
            "text/html": [
              "\n",
              "  <div id=\"df-d83497fc-0ad5-4123-9757-08c8ea056b59\">\n",
              "    <div class=\"colab-df-container\">\n",
              "      <div>\n",
              "<style scoped>\n",
              "    .dataframe tbody tr th:only-of-type {\n",
              "        vertical-align: middle;\n",
              "    }\n",
              "\n",
              "    .dataframe tbody tr th {\n",
              "        vertical-align: top;\n",
              "    }\n",
              "\n",
              "    .dataframe thead th {\n",
              "        text-align: right;\n",
              "    }\n",
              "</style>\n",
              "<table border=\"1\" class=\"dataframe\">\n",
              "  <thead>\n",
              "    <tr style=\"text-align: right;\">\n",
              "      <th></th>\n",
              "      <th>user_id</th>\n",
              "      <th>timestamp</th>\n",
              "      <th>group</th>\n",
              "      <th>landing_page</th>\n",
              "      <th>converted</th>\n",
              "    </tr>\n",
              "  </thead>\n",
              "  <tbody>\n",
              "    <tr>\n",
              "      <th>0</th>\n",
              "      <td>851104</td>\n",
              "      <td>2017-01-21 22:11:48.556739</td>\n",
              "      <td>control</td>\n",
              "      <td>old_page</td>\n",
              "      <td>0</td>\n",
              "    </tr>\n",
              "    <tr>\n",
              "      <th>1</th>\n",
              "      <td>804228</td>\n",
              "      <td>2017-01-12 08:01:45.159739</td>\n",
              "      <td>control</td>\n",
              "      <td>old_page</td>\n",
              "      <td>0</td>\n",
              "    </tr>\n",
              "    <tr>\n",
              "      <th>2</th>\n",
              "      <td>661590</td>\n",
              "      <td>2017-01-11 16:55:06.154213</td>\n",
              "      <td>treatment</td>\n",
              "      <td>new_page</td>\n",
              "      <td>0</td>\n",
              "    </tr>\n",
              "    <tr>\n",
              "      <th>3</th>\n",
              "      <td>853541</td>\n",
              "      <td>2017-01-08 18:28:03.143765</td>\n",
              "      <td>treatment</td>\n",
              "      <td>new_page</td>\n",
              "      <td>0</td>\n",
              "    </tr>\n",
              "    <tr>\n",
              "      <th>4</th>\n",
              "      <td>864975</td>\n",
              "      <td>2017-01-21 01:52:26.210827</td>\n",
              "      <td>control</td>\n",
              "      <td>old_page</td>\n",
              "      <td>1</td>\n",
              "    </tr>\n",
              "  </tbody>\n",
              "</table>\n",
              "</div>\n",
              "      <button class=\"colab-df-convert\" onclick=\"convertToInteractive('df-d83497fc-0ad5-4123-9757-08c8ea056b59')\"\n",
              "              title=\"Convert this dataframe to an interactive table.\"\n",
              "              style=\"display:none;\">\n",
              "        \n",
              "  <svg xmlns=\"http://www.w3.org/2000/svg\" height=\"24px\"viewBox=\"0 0 24 24\"\n",
              "       width=\"24px\">\n",
              "    <path d=\"M0 0h24v24H0V0z\" fill=\"none\"/>\n",
              "    <path d=\"M18.56 5.44l.94 2.06.94-2.06 2.06-.94-2.06-.94-.94-2.06-.94 2.06-2.06.94zm-11 1L8.5 8.5l.94-2.06 2.06-.94-2.06-.94L8.5 2.5l-.94 2.06-2.06.94zm10 10l.94 2.06.94-2.06 2.06-.94-2.06-.94-.94-2.06-.94 2.06-2.06.94z\"/><path d=\"M17.41 7.96l-1.37-1.37c-.4-.4-.92-.59-1.43-.59-.52 0-1.04.2-1.43.59L10.3 9.45l-7.72 7.72c-.78.78-.78 2.05 0 2.83L4 21.41c.39.39.9.59 1.41.59.51 0 1.02-.2 1.41-.59l7.78-7.78 2.81-2.81c.8-.78.8-2.07 0-2.86zM5.41 20L4 18.59l7.72-7.72 1.47 1.35L5.41 20z\"/>\n",
              "  </svg>\n",
              "      </button>\n",
              "      \n",
              "  <style>\n",
              "    .colab-df-container {\n",
              "      display:flex;\n",
              "      flex-wrap:wrap;\n",
              "      gap: 12px;\n",
              "    }\n",
              "\n",
              "    .colab-df-convert {\n",
              "      background-color: #E8F0FE;\n",
              "      border: none;\n",
              "      border-radius: 50%;\n",
              "      cursor: pointer;\n",
              "      display: none;\n",
              "      fill: #1967D2;\n",
              "      height: 32px;\n",
              "      padding: 0 0 0 0;\n",
              "      width: 32px;\n",
              "    }\n",
              "\n",
              "    .colab-df-convert:hover {\n",
              "      background-color: #E2EBFA;\n",
              "      box-shadow: 0px 1px 2px rgba(60, 64, 67, 0.3), 0px 1px 3px 1px rgba(60, 64, 67, 0.15);\n",
              "      fill: #174EA6;\n",
              "    }\n",
              "\n",
              "    [theme=dark] .colab-df-convert {\n",
              "      background-color: #3B4455;\n",
              "      fill: #D2E3FC;\n",
              "    }\n",
              "\n",
              "    [theme=dark] .colab-df-convert:hover {\n",
              "      background-color: #434B5C;\n",
              "      box-shadow: 0px 1px 3px 1px rgba(0, 0, 0, 0.15);\n",
              "      filter: drop-shadow(0px 1px 2px rgba(0, 0, 0, 0.3));\n",
              "      fill: #FFFFFF;\n",
              "    }\n",
              "  </style>\n",
              "\n",
              "      <script>\n",
              "        const buttonEl =\n",
              "          document.querySelector('#df-d83497fc-0ad5-4123-9757-08c8ea056b59 button.colab-df-convert');\n",
              "        buttonEl.style.display =\n",
              "          google.colab.kernel.accessAllowed ? 'block' : 'none';\n",
              "\n",
              "        async function convertToInteractive(key) {\n",
              "          const element = document.querySelector('#df-d83497fc-0ad5-4123-9757-08c8ea056b59');\n",
              "          const dataTable =\n",
              "            await google.colab.kernel.invokeFunction('convertToInteractive',\n",
              "                                                     [key], {});\n",
              "          if (!dataTable) return;\n",
              "\n",
              "          const docLinkHtml = 'Like what you see? Visit the ' +\n",
              "            '<a target=\"_blank\" href=https://colab.research.google.com/notebooks/data_table.ipynb>data table notebook</a>'\n",
              "            + ' to learn more about interactive tables.';\n",
              "          element.innerHTML = '';\n",
              "          dataTable['output_type'] = 'display_data';\n",
              "          await google.colab.output.renderOutput(dataTable, element);\n",
              "          const docLink = document.createElement('div');\n",
              "          docLink.innerHTML = docLinkHtml;\n",
              "          element.appendChild(docLink);\n",
              "        }\n",
              "      </script>\n",
              "    </div>\n",
              "  </div>\n",
              "  "
            ]
          },
          "metadata": {},
          "execution_count": 5
        }
      ]
    },
    {
      "cell_type": "markdown",
      "source": [
        "##**Cálculo amostral**"
      ],
      "metadata": {
        "id": "qoX7wqE4QfFO"
      }
    },
    {
      "cell_type": "code",
      "source": [
        "#Cálculo amostral utilizando a função power_ttest da biblioteca pingouin\n",
        "\n",
        "sample_size = power_ttest(d=0.02, power=0.8, alpha = 0.05, contrast='two-samples')\n",
        "\n",
        "print('Amostra por grupo = %.f' %sample_size)\n",
        "print('Amostra total = %.f' %(sample_size*2))"
      ],
      "metadata": {
        "id": "yt4TRAYfQlYf",
        "colab": {
          "base_uri": "https://localhost:8080/"
        },
        "outputId": "e2ebc4d2-bfc2-4d3d-fd25-3055bd8eb108"
      },
      "execution_count": 32,
      "outputs": [
        {
          "output_type": "stream",
          "name": "stdout",
          "text": [
            "Amostra por grupo = 39245\n",
            "Amostra total = 78491\n"
          ]
        }
      ]
    },
    {
      "cell_type": "markdown",
      "source": [
        "Cálculo amostral via G * Power\n",
        "\n",
        "![image.png](data:image/png;base64,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)"
      ],
      "metadata": {
        "id": "dntjcndWbLni"
      }
    },
    {
      "cell_type": "markdown",
      "source": [
        "####**Parâmetros do Experimento**"
      ],
      "metadata": {
        "id": "u20HwRANQZ3H"
      }
    },
    {
      "cell_type": "code",
      "source": [
        "#Nível de confiança\n",
        "confidence_level = 0.95\n",
        "\n",
        "#Nível de significância\n",
        "significance_level = 0.05\n",
        "\n",
        "#Tamanho de efeito\n",
        "effect_size = \n",
        "\n",
        "#Poder estatístico\n",
        "statistical_power = 0.80"
      ],
      "metadata": {
        "id": "qr-COG0KQeNk"
      },
      "execution_count": null,
      "outputs": []
    },
    {
      "cell_type": "code",
      "source": [
        "#Tamanho da amostra\n"
      ],
      "metadata": {
        "colab": {
          "base_uri": "https://localhost:8080/",
          "height": 184
        },
        "id": "h0I99HIHRNHf",
        "outputId": "06cd806c-855f-4391-95a2-7719c77772f9"
      },
      "execution_count": null,
      "outputs": [
        {
          "output_type": "error",
          "ename": "NameError",
          "evalue": "ignored",
          "traceback": [
            "\u001b[0;31m---------------------------------------------------------------------------\u001b[0m",
            "\u001b[0;31mNameError\u001b[0m                                 Traceback (most recent call last)",
            "\u001b[0;32m<ipython-input-19-622b61eebf4d>\u001b[0m in \u001b[0;36m<module>\u001b[0;34m\u001b[0m\n\u001b[1;32m      1\u001b[0m \u001b[0;31m#Tamanho da amostra\u001b[0m\u001b[0;34m\u001b[0m\u001b[0;34m\u001b[0m\u001b[0;34m\u001b[0m\u001b[0m\n\u001b[0;32m----> 2\u001b[0;31m \u001b[0mNormalIndPower\u001b[0m\u001b[0;34m(\u001b[0m\u001b[0;34m)\u001b[0m\u001b[0;34m\u001b[0m\u001b[0;34m\u001b[0m\u001b[0m\n\u001b[0m",
            "\u001b[0;31mNameError\u001b[0m: name 'NormalIndPower' is not defined"
          ]
        }
      ]
    }
  ]
}